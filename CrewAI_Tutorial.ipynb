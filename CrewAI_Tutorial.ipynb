{
  "nbformat": 4,
  "nbformat_minor": 0,
  "metadata": {
    "colab": {
      "provenance": [],
      "include_colab_link": true
    },
    "kernelspec": {
      "name": "python3",
      "display_name": "Python 3"
    },
    "language_info": {
      "name": "python"
    }
  },
  "cells": [
    {
      "cell_type": "markdown",
      "metadata": {
        "id": "view-in-github",
        "colab_type": "text"
      },
      "source": [
        "<a href=\"https://colab.research.google.com/github/xoftex-airesearch/LocalAI/blob/master/CrewAI_Tutorial.ipynb\" target=\"_parent\"><img src=\"https://colab.research.google.com/assets/colab-badge.svg\" alt=\"Open In Colab\"/></a>"
      ]
    },
    {
      "cell_type": "markdown",
      "source": [
        "### Install required pacakges\n"
      ],
      "metadata": {
        "id": "HV1DyBd2RHrN"
      }
    },
    {
      "cell_type": "code",
      "source": [
        "!pip install --q crewai\n",
        "!pip install --q -U duckduckgo-search\n",
        "!pip install --q langchain_google_genai"
      ],
      "metadata": {
        "id": "xOj-BuKARJrH"
      },
      "execution_count": null,
      "outputs": []
    },
    {
      "cell_type": "markdown",
      "source": [
        "### Required Packages"
      ],
      "metadata": {
        "id": "nRv8-Ja1R8S6"
      }
    },
    {
      "cell_type": "code",
      "source": [
        "import os\n",
        "from langchain_google_genai import ChatGoogleGenerativeAI\n",
        "from crewai import Agent, Task, Crew, Process"
      ],
      "metadata": {
        "id": "J9U8qs3aRLfh"
      },
      "execution_count": null,
      "outputs": []
    },
    {
      "cell_type": "markdown",
      "source": [
        "### set up the LLM"
      ],
      "metadata": {
        "id": "251A9PjVT6s3"
      }
    },
    {
      "cell_type": "code",
      "source": [
        "# Set gemini pro as llm\n",
        "llm = ChatGoogleGenerativeAI(model=\"gemini-pro\",\n",
        "                             verbose = True,\n",
        "                             temperature = 0.6,\n",
        "                             google_api_key=\"<Enter Google Gemini API KEY>\")"
      ],
      "metadata": {
        "id": "-jAOVSSISABN"
      },
      "execution_count": null,
      "outputs": []
    },
    {
      "cell_type": "code",
      "source": [
        "llm"
      ],
      "metadata": {
        "colab": {
          "base_uri": "https://localhost:8080/"
        },
        "id": "DtYh4tiCT2cg",
        "outputId": "3c2d35cb-bd8e-4364-e75e-6f407a35310a"
      },
      "execution_count": null,
      "outputs": [
        {
          "output_type": "execute_result",
          "data": {
            "text/plain": [
              "ChatGoogleGenerativeAI(verbose=True, model='gemini-pro', client= genai.GenerativeModel(\n",
              "   model_name='models/gemini-pro',\n",
              "   generation_config={}.\n",
              "   safety_settings={}\n",
              "), google_api_key=SecretStr('**********'), temperature=0.6)"
            ]
          },
          "metadata": {},
          "execution_count": 7
        }
      ]
    },
    {
      "cell_type": "markdown",
      "source": [
        "### setup tools"
      ],
      "metadata": {
        "id": "BSumWCcRUUDl"
      }
    },
    {
      "cell_type": "code",
      "source": [
        "# Make sure to Install duckduckgo-search for this example:\n",
        "# !pip install -U duckduckgo-search\n",
        "\n",
        "from langchain.tools import DuckDuckGoSearchRun\n",
        "search_tool = DuckDuckGoSearchRun()"
      ],
      "metadata": {
        "id": "DiaqNKjsT4jc"
      },
      "execution_count": null,
      "outputs": []
    },
    {
      "cell_type": "markdown",
      "source": [
        "### setup agents"
      ],
      "metadata": {
        "id": "-a9pqtdqUgtJ"
      }
    },
    {
      "cell_type": "code",
      "source": [
        "# Define your agents with roles and goals\n",
        "researcher = Agent(\n",
        "  role='Senior Research Analyst',\n",
        "  goal='Uncover cutting-edge developments in AI and data science',\n",
        "  backstory=\"\"\"You work at a leading tech think tank.\n",
        "  Your expertise lies in identifying emerging trends.\n",
        "  You have a knack for dissecting complex data and presenting\n",
        "  actionable insights.\"\"\",\n",
        "  verbose=True,\n",
        "  allow_delegation=False,\n",
        "  llm = llm,  #using google gemini pro API\n",
        "  tools=[\n",
        "        search_tool\n",
        "      ]\n",
        "  # You can pass an optional llm attribute specifying what mode you wanna use.\n",
        "  # It can be a local model through Ollama / LM Studio or a remote\n",
        "  # model like OpenAI, Mistral, Antrophic of others (https://python.langchain.com/docs/integrations/llms/)\n",
        "  #\n",
        "  # Examples:\n",
        "  # llm=ollama_llm # was defined above in the file\n",
        "  # llm=ChatOpenAI(model_name=\"gpt-3.5\", temperature=0.7)\n",
        ")"
      ],
      "metadata": {
        "id": "SLDSHOuCUXna"
      },
      "execution_count": null,
      "outputs": []
    },
    {
      "cell_type": "code",
      "source": [
        "writer = Agent(\n",
        "  role='Tech Content Strategist',\n",
        "  goal='Craft compelling content on tech advancements',\n",
        "  backstory=\"\"\"You are a renowned Content Strategist, known for\n",
        "  your insightful and engaging articles.\n",
        "  You transform complex concepts into compelling narratives.\"\"\",\n",
        "  verbose=True,\n",
        "  allow_delegation=False,\n",
        "  llm = llm,  #using google gemini pro API\n",
        "  tools=[]\n",
        ")\n"
      ],
      "metadata": {
        "id": "Bg92o2wyVpKs"
      },
      "execution_count": null,
      "outputs": []
    },
    {
      "cell_type": "markdown",
      "source": [
        "### Tasks to perform"
      ],
      "metadata": {
        "id": "dmdxvELxV6J1"
      }
    },
    {
      "cell_type": "code",
      "source": [
        "# Create tasks for your agents\n",
        "task1 = Task(\n",
        "  description=\"\"\"Conduct a comprehensive analysis of the latest advancements in AI in 2024.\n",
        "  Identify key trends, breakthrough technologies, and potential industry impacts.\n",
        "  Your final answer MUST be a full analysis report\"\"\",\n",
        "  agent=researcher\n",
        ")\n"
      ],
      "metadata": {
        "id": "9ZG9GxqWV0md"
      },
      "execution_count": null,
      "outputs": []
    },
    {
      "cell_type": "code",
      "source": [
        "task2 = Task(\n",
        "  description=\"\"\"Using the insights provided, develop an engaging blog\n",
        "  post that highlights the most significant AI advancements.\n",
        "  Your post should be informative yet accessible, catering to a tech-savvy audience.\n",
        "  Make it sound cool, avoid complex words so it doesn't sound like AI.\n",
        "  Your final answer MUST be the full blog post of at least 4 paragraphs.\"\"\",\n",
        "  agent=writer\n",
        ")\n"
      ],
      "metadata": {
        "id": "PpoGib_hWCtQ"
      },
      "execution_count": null,
      "outputs": []
    },
    {
      "cell_type": "markdown",
      "source": [
        "### Create a Crew"
      ],
      "metadata": {
        "id": "yvjya2FzWR5m"
      }
    },
    {
      "cell_type": "code",
      "source": [
        "\n",
        "# Instantiate your crew with a sequential process\n",
        "crew = Crew(\n",
        "  agents=[researcher, writer],\n",
        "  tasks=[task1, task2],\n",
        "  verbose=2, # You can set it to 1 or 2 to different logging levels\n",
        ")"
      ],
      "metadata": {
        "id": "yYykbGq2WRSP"
      },
      "execution_count": null,
      "outputs": []
    },
    {
      "cell_type": "code",
      "source": [
        "crew"
      ],
      "metadata": {
        "colab": {
          "base_uri": "https://localhost:8080/"
        },
        "id": "xSBr8D6tWloT",
        "outputId": "ecf7a576-81eb-4d1f-ba51-4c2fd88736c7"
      },
      "execution_count": null,
      "outputs": [
        {
          "output_type": "execute_result",
          "data": {
            "text/plain": [
              "Crew(tasks=[Task(description='Conduct a comprehensive analysis of the latest advancements in AI in 2024.\\n  Identify key trends, breakthrough technologies, and potential industry impacts.\\n  Your final answer MUST be a full analysis report', agent=Agent(id=UUID('fea98902-5543-4196-84aa-040f13054e5f'), role='Senior Research Analyst', goal='Uncover cutting-edge developments in AI and data science', backstory='You work at a leading tech think tank.\\n  Your expertise lies in identifying emerging trends.\\n  You have a knack for dissecting complex data and presenting\\n  actionable insights.', llm=ChatGoogleGenerativeAI(verbose=True, model='gemini-pro', client= genai.GenerativeModel(\n",
              "   model_name='models/gemini-pro',\n",
              "   generation_config={}.\n",
              "   safety_settings={}\n",
              "), google_api_key=SecretStr('**********'), temperature=0.6), memory=True, verbose=True, allow_delegation=False, tools=[DuckDuckGoSearchRun()], agent_executor=CrewAgentExecutor(memory=ConversationSummaryMemory(llm=ChatGoogleGenerativeAI(verbose=True, model='gemini-pro', client= genai.GenerativeModel(\n",
              "   model_name='models/gemini-pro',\n",
              "   generation_config={}.\n",
              "   safety_settings={}\n",
              "), google_api_key=SecretStr('**********'), temperature=0.6), input_key='input', memory_key='chat_history'), verbose=True, agent=RunnableAgent(runnable={\n",
              "  input: RunnableLambda(...),\n",
              "  tools: RunnableLambda(...),\n",
              "  tool_names: RunnableLambda(...),\n",
              "  agent_scratchpad: RunnableLambda(...),\n",
              "  chat_history: RunnableLambda(lambda x: x['chat_history'])\n",
              "}\n",
              "| PromptTemplate(input_variables=['agent_scratchpad', 'chat_history', 'input', 'tool_names', 'tools'], partial_variables={'goal': 'Uncover cutting-edge developments in AI and data science', 'role': 'Senior Research Analyst', 'backstory': 'You work at a leading tech think tank.\\n  Your expertise lies in identifying emerging trends.\\n  You have a knack for dissecting complex data and presenting\\n  actionable insights.'}, template='You are {role}.\\n{backstory}\\n\\nYour personal goal is: {goal}TOOLS:\\n------\\nYou have access to the following tools:\\n\\n{tools}\\n\\nTo use a tool, please use the exact following format:\\n\\n```\\nThought: Do I need to use a tool? Yes\\nAction: the action to take, should be one of [{tool_names}], just the name.\\nAction Input: the input to the action\\nObservation: the result of the action\\n```\\n\\nWhen you have a response for your task, or if you do not need to use a tool, you MUST use the format:\\n\\n```\\nThought: Do I need to use a tool? No\\nFinal Answer: [your response here]This is the summary of your work so far:\\n{chat_history}Begin! This is VERY important to you, your job depends on it!\\n\\nCurrent Task: {input}\\n{agent_scratchpad}')\n",
              "| RunnableBinding(bound=ChatGoogleGenerativeAI(verbose=True, model='gemini-pro', client= genai.GenerativeModel(\n",
              "     model_name='models/gemini-pro',\n",
              "     generation_config={}.\n",
              "     safety_settings={}\n",
              "  ), google_api_key=SecretStr('**********'), temperature=0.6), kwargs={'stop': ['\\nObservation']})\n",
              "| CrewAgentOutputParser(tools_handler=<crewai.agents.tools_handler.ToolsHandler object at 0x7bea246f2620>, cache=<crewai.agents.cache.cache_handler.CacheHandler object at 0x7bea2506ead0>)), tools=[DuckDuckGoSearchRun()], handle_parsing_errors=True), tools_handler=<crewai.agents.tools_handler.ToolsHandler object at 0x7bea246f2620>, cache_handler=<crewai.agents.cache.cache_handler.CacheHandler object at 0x7bea2506ead0>), tools=[DuckDuckGoSearchRun()], output=None, id=UUID('d062ef26-07be-4171-9f20-4d66a68c6cf5')), Task(description=\"Using the insights provided, develop an engaging blog\\n  post that highlights the most significant AI advancements.\\n  Your post should be informative yet accessible, catering to a tech-savvy audience.\\n  Make it sound cool, avoid complex words so it doesn't sound like AI.\\n  Your final answer MUST be the full blog post of at least 4 paragraphs.\", agent=Agent(id=UUID('d5ee33ae-8e86-4ab0-a482-d03424ce3634'), role='Tech Content Strategist', goal='Craft compelling content on tech advancements', backstory='You are a renowned Content Strategist, known for\\n  your insightful and engaging articles.\\n  You transform complex concepts into compelling narratives.', llm=ChatGoogleGenerativeAI(verbose=True, model='gemini-pro', client= genai.GenerativeModel(\n",
              "   model_name='models/gemini-pro',\n",
              "   generation_config={}.\n",
              "   safety_settings={}\n",
              "), google_api_key=SecretStr('**********'), temperature=0.6), memory=True, verbose=True, allow_delegation=False, tools=[], agent_executor=CrewAgentExecutor(memory=ConversationSummaryMemory(llm=ChatGoogleGenerativeAI(verbose=True, model='gemini-pro', client= genai.GenerativeModel(\n",
              "   model_name='models/gemini-pro',\n",
              "   generation_config={}.\n",
              "   safety_settings={}\n",
              "), google_api_key=SecretStr('**********'), temperature=0.6), input_key='input', memory_key='chat_history'), verbose=True, agent=RunnableAgent(runnable={\n",
              "  input: RunnableLambda(...),\n",
              "  tools: RunnableLambda(...),\n",
              "  tool_names: RunnableLambda(...),\n",
              "  agent_scratchpad: RunnableLambda(...),\n",
              "  chat_history: RunnableLambda(lambda x: x['chat_history'])\n",
              "}\n",
              "| PromptTemplate(input_variables=['agent_scratchpad', 'chat_history', 'input', 'tool_names', 'tools'], partial_variables={'goal': 'Craft compelling content on tech advancements', 'role': 'Tech Content Strategist', 'backstory': 'You are a renowned Content Strategist, known for\\n  your insightful and engaging articles.\\n  You transform complex concepts into compelling narratives.'}, template='You are {role}.\\n{backstory}\\n\\nYour personal goal is: {goal}TOOLS:\\n------\\nYou have access to the following tools:\\n\\n{tools}\\n\\nTo use a tool, please use the exact following format:\\n\\n```\\nThought: Do I need to use a tool? Yes\\nAction: the action to take, should be one of [{tool_names}], just the name.\\nAction Input: the input to the action\\nObservation: the result of the action\\n```\\n\\nWhen you have a response for your task, or if you do not need to use a tool, you MUST use the format:\\n\\n```\\nThought: Do I need to use a tool? No\\nFinal Answer: [your response here]This is the summary of your work so far:\\n{chat_history}Begin! This is VERY important to you, your job depends on it!\\n\\nCurrent Task: {input}\\n{agent_scratchpad}')\n",
              "| RunnableBinding(bound=ChatGoogleGenerativeAI(verbose=True, model='gemini-pro', client= genai.GenerativeModel(\n",
              "     model_name='models/gemini-pro',\n",
              "     generation_config={}.\n",
              "     safety_settings={}\n",
              "  ), google_api_key=SecretStr('**********'), temperature=0.6), kwargs={'stop': ['\\nObservation']})\n",
              "| CrewAgentOutputParser(tools_handler=<crewai.agents.tools_handler.ToolsHandler object at 0x7bea525cf5b0>, cache=<crewai.agents.cache.cache_handler.CacheHandler object at 0x7bea2506ead0>)), tools=[], handle_parsing_errors=True), tools_handler=<crewai.agents.tools_handler.ToolsHandler object at 0x7bea525cf5b0>, cache_handler=<crewai.agents.cache.cache_handler.CacheHandler object at 0x7bea2506ead0>), tools=[], output=None, id=UUID('89bf0cd7-8b48-4ce1-b43c-486f9721a5cb'))], agents=[Agent(id=UUID('fea98902-5543-4196-84aa-040f13054e5f'), role='Senior Research Analyst', goal='Uncover cutting-edge developments in AI and data science', backstory='You work at a leading tech think tank.\\n  Your expertise lies in identifying emerging trends.\\n  You have a knack for dissecting complex data and presenting\\n  actionable insights.', llm=ChatGoogleGenerativeAI(verbose=True, model='gemini-pro', client= genai.GenerativeModel(\n",
              "   model_name='models/gemini-pro',\n",
              "   generation_config={}.\n",
              "   safety_settings={}\n",
              "), google_api_key=SecretStr('**********'), temperature=0.6), memory=True, verbose=True, allow_delegation=False, tools=[DuckDuckGoSearchRun()], agent_executor=CrewAgentExecutor(memory=ConversationSummaryMemory(llm=ChatGoogleGenerativeAI(verbose=True, model='gemini-pro', client= genai.GenerativeModel(\n",
              "   model_name='models/gemini-pro',\n",
              "   generation_config={}.\n",
              "   safety_settings={}\n",
              "), google_api_key=SecretStr('**********'), temperature=0.6), input_key='input', memory_key='chat_history'), verbose=True, agent=RunnableAgent(runnable={\n",
              "  input: RunnableLambda(...),\n",
              "  tools: RunnableLambda(...),\n",
              "  tool_names: RunnableLambda(...),\n",
              "  agent_scratchpad: RunnableLambda(...),\n",
              "  chat_history: RunnableLambda(lambda x: x['chat_history'])\n",
              "}\n",
              "| PromptTemplate(input_variables=['agent_scratchpad', 'chat_history', 'input', 'tool_names', 'tools'], partial_variables={'goal': 'Uncover cutting-edge developments in AI and data science', 'role': 'Senior Research Analyst', 'backstory': 'You work at a leading tech think tank.\\n  Your expertise lies in identifying emerging trends.\\n  You have a knack for dissecting complex data and presenting\\n  actionable insights.'}, template='You are {role}.\\n{backstory}\\n\\nYour personal goal is: {goal}TOOLS:\\n------\\nYou have access to the following tools:\\n\\n{tools}\\n\\nTo use a tool, please use the exact following format:\\n\\n```\\nThought: Do I need to use a tool? Yes\\nAction: the action to take, should be one of [{tool_names}], just the name.\\nAction Input: the input to the action\\nObservation: the result of the action\\n```\\n\\nWhen you have a response for your task, or if you do not need to use a tool, you MUST use the format:\\n\\n```\\nThought: Do I need to use a tool? No\\nFinal Answer: [your response here]This is the summary of your work so far:\\n{chat_history}Begin! This is VERY important to you, your job depends on it!\\n\\nCurrent Task: {input}\\n{agent_scratchpad}')\n",
              "| RunnableBinding(bound=ChatGoogleGenerativeAI(verbose=True, model='gemini-pro', client= genai.GenerativeModel(\n",
              "     model_name='models/gemini-pro',\n",
              "     generation_config={}.\n",
              "     safety_settings={}\n",
              "  ), google_api_key=SecretStr('**********'), temperature=0.6), kwargs={'stop': ['\\nObservation']})\n",
              "| CrewAgentOutputParser(tools_handler=<crewai.agents.tools_handler.ToolsHandler object at 0x7bea246f2620>, cache=<crewai.agents.cache.cache_handler.CacheHandler object at 0x7bea2506ead0>)), tools=[DuckDuckGoSearchRun()], handle_parsing_errors=True), tools_handler=<crewai.agents.tools_handler.ToolsHandler object at 0x7bea246f2620>, cache_handler=<crewai.agents.cache.cache_handler.CacheHandler object at 0x7bea2506ead0>), Agent(id=UUID('d5ee33ae-8e86-4ab0-a482-d03424ce3634'), role='Tech Content Strategist', goal='Craft compelling content on tech advancements', backstory='You are a renowned Content Strategist, known for\\n  your insightful and engaging articles.\\n  You transform complex concepts into compelling narratives.', llm=ChatGoogleGenerativeAI(verbose=True, model='gemini-pro', client= genai.GenerativeModel(\n",
              "   model_name='models/gemini-pro',\n",
              "   generation_config={}.\n",
              "   safety_settings={}\n",
              "), google_api_key=SecretStr('**********'), temperature=0.6), memory=True, verbose=True, allow_delegation=False, tools=[], agent_executor=CrewAgentExecutor(memory=ConversationSummaryMemory(llm=ChatGoogleGenerativeAI(verbose=True, model='gemini-pro', client= genai.GenerativeModel(\n",
              "   model_name='models/gemini-pro',\n",
              "   generation_config={}.\n",
              "   safety_settings={}\n",
              "), google_api_key=SecretStr('**********'), temperature=0.6), input_key='input', memory_key='chat_history'), verbose=True, agent=RunnableAgent(runnable={\n",
              "  input: RunnableLambda(...),\n",
              "  tools: RunnableLambda(...),\n",
              "  tool_names: RunnableLambda(...),\n",
              "  agent_scratchpad: RunnableLambda(...),\n",
              "  chat_history: RunnableLambda(lambda x: x['chat_history'])\n",
              "}\n",
              "| PromptTemplate(input_variables=['agent_scratchpad', 'chat_history', 'input', 'tool_names', 'tools'], partial_variables={'goal': 'Craft compelling content on tech advancements', 'role': 'Tech Content Strategist', 'backstory': 'You are a renowned Content Strategist, known for\\n  your insightful and engaging articles.\\n  You transform complex concepts into compelling narratives.'}, template='You are {role}.\\n{backstory}\\n\\nYour personal goal is: {goal}TOOLS:\\n------\\nYou have access to the following tools:\\n\\n{tools}\\n\\nTo use a tool, please use the exact following format:\\n\\n```\\nThought: Do I need to use a tool? Yes\\nAction: the action to take, should be one of [{tool_names}], just the name.\\nAction Input: the input to the action\\nObservation: the result of the action\\n```\\n\\nWhen you have a response for your task, or if you do not need to use a tool, you MUST use the format:\\n\\n```\\nThought: Do I need to use a tool? No\\nFinal Answer: [your response here]This is the summary of your work so far:\\n{chat_history}Begin! This is VERY important to you, your job depends on it!\\n\\nCurrent Task: {input}\\n{agent_scratchpad}')\n",
              "| RunnableBinding(bound=ChatGoogleGenerativeAI(verbose=True, model='gemini-pro', client= genai.GenerativeModel(\n",
              "     model_name='models/gemini-pro',\n",
              "     generation_config={}.\n",
              "     safety_settings={}\n",
              "  ), google_api_key=SecretStr('**********'), temperature=0.6), kwargs={'stop': ['\\nObservation']})\n",
              "| CrewAgentOutputParser(tools_handler=<crewai.agents.tools_handler.ToolsHandler object at 0x7bea525cf5b0>, cache=<crewai.agents.cache.cache_handler.CacheHandler object at 0x7bea2506ead0>)), tools=[], handle_parsing_errors=True), tools_handler=<crewai.agents.tools_handler.ToolsHandler object at 0x7bea525cf5b0>, cache_handler=<crewai.agents.cache.cache_handler.CacheHandler object at 0x7bea2506ead0>)], process=<Process.sequential: 'sequential'>, verbose=2, config=None, cache_handler=<crewai.agents.cache.cache_handler.CacheHandler object at 0x7bea2506ead0>, id=UUID('8c621324-6aa7-4e0c-ac82-d22bce2135ec'))"
            ]
          },
          "metadata": {},
          "execution_count": 15
        }
      ]
    },
    {
      "cell_type": "markdown",
      "source": [
        "### Kickoff the crew - let the magic happen"
      ],
      "metadata": {
        "id": "-tjmzH9cXOaB"
      }
    },
    {
      "cell_type": "code",
      "source": [
        "# Get your crew to work!\n",
        "result = crew.kickoff()"
      ],
      "metadata": {
        "colab": {
          "base_uri": "https://localhost:8080/",
          "height": 1000
        },
        "id": "VU3LdZmIWqQH",
        "outputId": "2746b578-21dd-42d9-d5d3-ed7aaa13fdbf"
      },
      "execution_count": null,
      "outputs": [
        {
          "output_type": "stream",
          "name": "stdout",
          "text": [
            "Working Agent: Senior Research Analyst\n",
            "Starting Task: Conduct a comprehensive analysis of the latest advancements in AI in 2024.\n",
            "  Identify key trends, breakthrough technologies, and potential industry impacts.\n",
            "  Your final answer MUST be a full analysis report\n",
            "\n",
            "\n",
            "\u001b[1m> Entering new CrewAgentExecutor chain...\u001b[0m\n",
            "\u001b[32;1m\u001b[1;3mThought: Do I need to use a tool? Yes\n",
            "Action: duckduckgo_search\n",
            "Action Input: What are the latest advancements in AI in 2024?\u001b[0m\u001b[36;1m\u001b[1;3mIn 2024, open source pretrained AI models gain significant traction, empowering businesses to accelerate growth by combining these models with private or real-time data. This synergy enhances productivity and cost-efficiency. IBM actively contributes to open source AI models, which are exemplified by its collaboration with NASA. In 2024, generative AI might actually become useful for the regular, non-tech person, and we are going to see more people tinkering with a million little AI models. State-of-the-art AI... It's been a year since OpenAI released ChatGPT, opening the door to seamlessly weave AI into the fabric of our daily lives, propelling industries into the future and even prompting regulatory... published 27 December 2023 While 2023 was the year of AI, 2024 will be the year we use it. Comments (0) (Image credit: Aston Martin/Apple) We have just come to the end of a year where... Dec 29, 2023,02:25am EST Share to Facebook Share to Twitter Share to Linkedin 2024 will likely shape up to be another banner year for AI. getty Making predictions is always hard, especially in...\u001b[0m\u001b[32;1m\u001b[1;3mDo I need to use a tool? No\n",
            "Final Answer: Here is a comprehensive analysis of the latest advancements in AI in 2024:\n",
            "\n",
            "**Key Trends**\n",
            "\n",
            "* **Open Source Pretrained AI Models Gain Traction:**\n",
            "In 2024, open source pretrained AI models, such as those developed by IBM and NASA, become widely adopted by businesses. These models enable businesses to accelerate growth by combining them with private or real-time data, enhancing productivity and cost-efficiency.\n",
            "\n",
            "* **Generative AI Becomes More Accessible:**\n",
            "Generative AI, which can generate new data or content from existing data, becomes more accessible to non-tech users. This leads to an increase in the number of people experimenting with AI models and creating innovative applications.\n",
            "\n",
            "* **AI-Powered Automation Expands:**\n",
            "AI-powered automation expands beyond repetitive tasks to include more complex processes, such as decision-making and problem-solving. This leads to increased efficiency and productivity across various industries.\n",
            "\n",
            "* **AI in Healthcare Advances:**\n",
            "AI plays a more significant role in healthcare, aiding in disease diagnosis, drug discovery, and personalized treatment plans. This leads to improved patient outcomes and reduced healthcare costs.\n",
            "\n",
            "* **AI in Finance Matures:**\n",
            "AI is increasingly used in finance for fraud detection, risk assessment, and investment management. This leads to increased security and efficiency in financial transactions.\n",
            "\n",
            "**Breakthrough Technologies**\n",
            "\n",
            "* **Quantum Machine Learning:**\n",
            "Quantum machine learning algorithms emerge, enabling faster and more accurate training of AI models. This leads to breakthroughs in various fields, such as drug discovery and materials science.\n",
            "\n",
            "* **Edge AI:**\n",
            "Edge AI devices, which process data locally rather than sending it to the cloud, become more powerful and affordable. This enables real-time decision-making and enhances privacy.\n",
            "\n",
            "* **AI-Powered Cybersecurity:**\n",
            "AI is used to develop more sophisticated cybersecurity systems that can detect and respond to threats in real-time. This leads to increased protection against cyberattacks.\n",
            "\n",
            "* **AI for Climate Change Mitigation:**\n",
            "AI is used to develop innovative solutions for climate change mitigation, such as optimizing energy usage and predicting extreme weather events. This leads to a reduction in greenhouse gas emissions and improved resilience to climate change.\n",
            "\n",
            "**Potential Industry Impacts**\n",
            "\n",
            "* **Increased Productivity and Efficiency:**\n",
            "AI-powered automation and improved decision-making lead to increased productivity and efficiency across various industries, resulting in cost savings and improved profitability.\n",
            "\n",
            "* **New Products and Services:**\n",
            "Generative AI and other advanced AI technologies enable the development of new products and services that were previously impossible. This leads to new markets and opportunities for businesses.\n",
            "\n",
            "* **Improved Customer Experience:**\n",
            "AI-powered customer service chatbots and personalized recommendations enhance customer experience, leading to increased customer satisfaction and loyalty.\n",
            "\n",
            "* **Enhanced Healthcare and Financial Services:**\n",
            "AI improves the accuracy and efficiency of healthcare diagnosis and treatment, leading to better patient outcomes. AI also enhances the security and efficiency of financial transactions, reducing fraud and risk.\n",
            "\n",
            "* **More Sustainable and Resilient Societies:**\n",
            "AI-powered solutions for climate change mitigation and cybersecurity lead to more sustainable and resilient societies. This results in a reduction in greenhouse gas emissions, improved protection against cyberattacks, and a better quality of life for citizens.\n",
            "\n",
            "Overall, the advancements in AI in 2024 have the potential to transform industries, improve lives, and create a more sustainable and prosperous future.\u001b[0m\n",
            "\n",
            "\u001b[1m> Finished chain.\u001b[0m\n",
            "\n",
            "\n",
            "[Senior Research Analyst] Task output: Here is a comprehensive analysis of the latest advancements in AI in 2024:\n",
            "\n",
            "**Key Trends**\n",
            "\n",
            "* **Open Source Pretrained AI Models Gain Traction:**\n",
            "In 2024, open source pretrained AI models, such as those developed by IBM and NASA, become widely adopted by businesses. These models enable businesses to accelerate growth by combining them with private or real-time data, enhancing productivity and cost-efficiency.\n",
            "\n",
            "* **Generative AI Becomes More Accessible:**\n",
            "Generative AI, which can generate new data or content from existing data, becomes more accessible to non-tech users. This leads to an increase in the number of people experimenting with AI models and creating innovative applications.\n",
            "\n",
            "* **AI-Powered Automation Expands:**\n",
            "AI-powered automation expands beyond repetitive tasks to include more complex processes, such as decision-making and problem-solving. This leads to increased efficiency and productivity across various industries.\n",
            "\n",
            "* **AI in Healthcare Advances:**\n",
            "AI plays a more significant role in healthcare, aiding in disease diagnosis, drug discovery, and personalized treatment plans. This leads to improved patient outcomes and reduced healthcare costs.\n",
            "\n",
            "* **AI in Finance Matures:**\n",
            "AI is increasingly used in finance for fraud detection, risk assessment, and investment management. This leads to increased security and efficiency in financial transactions.\n",
            "\n",
            "**Breakthrough Technologies**\n",
            "\n",
            "* **Quantum Machine Learning:**\n",
            "Quantum machine learning algorithms emerge, enabling faster and more accurate training of AI models. This leads to breakthroughs in various fields, such as drug discovery and materials science.\n",
            "\n",
            "* **Edge AI:**\n",
            "Edge AI devices, which process data locally rather than sending it to the cloud, become more powerful and affordable. This enables real-time decision-making and enhances privacy.\n",
            "\n",
            "* **AI-Powered Cybersecurity:**\n",
            "AI is used to develop more sophisticated cybersecurity systems that can detect and respond to threats in real-time. This leads to increased protection against cyberattacks.\n",
            "\n",
            "* **AI for Climate Change Mitigation:**\n",
            "AI is used to develop innovative solutions for climate change mitigation, such as optimizing energy usage and predicting extreme weather events. This leads to a reduction in greenhouse gas emissions and improved resilience to climate change.\n",
            "\n",
            "**Potential Industry Impacts**\n",
            "\n",
            "* **Increased Productivity and Efficiency:**\n",
            "AI-powered automation and improved decision-making lead to increased productivity and efficiency across various industries, resulting in cost savings and improved profitability.\n",
            "\n",
            "* **New Products and Services:**\n",
            "Generative AI and other advanced AI technologies enable the development of new products and services that were previously impossible. This leads to new markets and opportunities for businesses.\n",
            "\n",
            "* **Improved Customer Experience:**\n",
            "AI-powered customer service chatbots and personalized recommendations enhance customer experience, leading to increased customer satisfaction and loyalty.\n",
            "\n",
            "* **Enhanced Healthcare and Financial Services:**\n",
            "AI improves the accuracy and efficiency of healthcare diagnosis and treatment, leading to better patient outcomes. AI also enhances the security and efficiency of financial transactions, reducing fraud and risk.\n",
            "\n",
            "* **More Sustainable and Resilient Societies:**\n",
            "AI-powered solutions for climate change mitigation and cybersecurity lead to more sustainable and resilient societies. This results in a reduction in greenhouse gas emissions, improved protection against cyberattacks, and a better quality of life for citizens.\n",
            "\n",
            "Overall, the advancements in AI in 2024 have the potential to transform industries, improve lives, and create a more sustainable and prosperous future.\n",
            "\n",
            "\n",
            "Working Agent: Tech Content Strategist\n",
            "Starting Task: Using the insights provided, develop an engaging blog\n",
            "  post that highlights the most significant AI advancements.\n",
            "  Your post should be informative yet accessible, catering to a tech-savvy audience.\n",
            "  Make it sound cool, avoid complex words so it doesn't sound like AI.\n",
            "  Your final answer MUST be the full blog post of at least 4 paragraphs.\n",
            "\n",
            "\n",
            "\u001b[1m> Entering new CrewAgentExecutor chain...\u001b[0m\n",
            "\u001b[32;1m\u001b[1;3mThought: Do I need to use a tool? No\n",
            "Final Answer:\n",
            "\n",
            "# **AI Advancements in 2024: Unleashing a World of Possibilities**\n",
            "\n",
            "In 2024, the world of Artificial Intelligence (AI) is witnessing a surge of advancements that are poised to reshape industries, enhance lives, and pave the way for a sustainable future. From open-source AI models to quantum machine learning, the possibilities are endless. Let's dive into the most significant AI breakthroughs and explore their potential impacts on various aspects of our lives.\n",
            "\n",
            "**Open Source AI Models: A Catalyst for Growth**\n",
            "\n",
            "The accessibility of open-source pretrained AI models developed by tech giants like IBM and NASA is revolutionizing the way businesses leverage AI. These models serve as a foundation for businesses to build upon, allowing them to accelerate growth by combining them with private or real-time data. This synergy enhances productivity, cost-efficiency, and innovation, fostering a thriving business landscape.\n",
            "\n",
            "**Generative AI: Unleashing Creativity and Innovation**\n",
            "\n",
            "Generative AI, with its ability to generate new data and content from existing sources, is becoming more accessible to non-tech users. This democratization of AI empowers individuals to experiment with AI models, leading to a surge in innovative applications and novel solutions. From stunning artwork to personalized content, generative AI is unlocking a new era of creativity and innovation.\n",
            "\n",
            "**AI-Powered Automation: Beyond Repetitive Tasks**\n",
            "\n",
            "AI-powered automation is expanding its reach beyond repetitive tasks, venturing into complex processes that require decision-making and problem-solving. This evolution enhances efficiency and productivity across industries, from manufacturing to healthcare, driving economic growth and improving operational outcomes.\n",
            "\n",
            "**AI in Healthcare: Revolutionizing Patient Care**\n",
            "\n",
            "AI is playing an increasingly pivotal role in healthcare, aiding in disease diagnosis, drug discovery, and the development of personalized treatment plans. These advancements lead to improved patient outcomes, reduced healthcare costs, and a more proactive approach to healthcare management.\n",
            "\n",
            "**AI in Finance: Enhancing Security and Efficiency**\n",
            "\n",
            "The financial sector is witnessing a surge in the adoption of AI for fraud detection, risk assessment, and investment management. AI-powered systems provide real-time analysis of financial data, enabling institutions to make informed decisions, mitigate risks, and streamline operations, resulting in increased security and efficiency in financial transactions.\n",
            "\n",
            "**Breakthrough Technologies: Pushing the Boundaries of AI**\n",
            "\n",
            "The year 2024 marks the emergence of breakthrough technologies that are propelling AI to new heights. Quantum machine learning algorithms are enabling faster and more accurate training of AI models, leading to breakthroughs in drug discovery, materials science, and other complex domains.\n",
            "\n",
            "Edge AI devices, with their ability to process data locally, are becoming more powerful and affordable. This decentralized approach enables real-time decision-making, enhances privacy, and expands the applications of AI beyond cloud-based systems.\n",
            "\n",
            "AI-powered cybersecurity systems are evolving to combat sophisticated cyber threats in real-time. These systems leverage AI to detect anomalies, identify vulnerabilities, and respond to attacks swiftly, safeguarding businesses and individuals from cyber threats.\n",
            "\n",
            "AI is also playing a crucial role in climate change mitigation. AI-powered solutions optimize energy usage, predict extreme weather events, and develop innovative approaches to reduce greenhouse gas emissions. These advancements pave the way for a more sustainable and resilient future.\n",
            "\n",
            "**Potential Industry Impacts: A Transformative Force**\n",
            "\n",
            "The advancements in AI have the potential to transform industries and improve lives in numerous ways. Increased productivity and efficiency, driven by AI-powered automation and improved decision-making, will lead to cost savings and improved profitability across various sectors.\n",
            "\n",
            "Generative AI and other advanced AI technologies will enable the development of new products and services, opening up new markets and opportunities for businesses. AI-powered customer service chatbots and personalized recommendations will enhance customer experience, resulting in increased satisfaction and loyalty.\n",
            "\n",
            "AI's impact on healthcare and financial services will be profound. AI will improve the accuracy and efficiency of healthcare diagnosis and treatment, leading to better patient outcomes. In the financial sector, AI will enhance the security and efficiency of financial transactions, reducing fraud and risk.\n",
            "\n",
            "Furthermore, AI-powered solutions for climate change mitigation and cybersecurity will lead to more sustainable and resilient societies. These advancements will reduce greenhouse gas emissions, improve protection against cyberattacks, and enhance the quality of life for citizens.\n",
            "\n",
            "**Conclusion: A Future Powered by AI**\n",
            "\n",
            "The year 2024 marks a pivotal moment in the evolution of AI. With open-source AI models, generative AI, and breakthrough technologies like quantum machine learning and edge AI, we are witnessing a surge of advancements that have the potential to transform industries, improve lives, and create a more sustainable and prosperous future. As AI continues to evolve, we can expect even more remarkable breakthroughs that will shape the world in ways we can only imagine.\u001b[0m\n",
            "\n",
            "\u001b[1m> Finished chain.\u001b[0m\n",
            "\n",
            "\n",
            "[Tech Content Strategist] Task output: # **AI Advancements in 2024: Unleashing a World of Possibilities**\n",
            "\n",
            "In 2024, the world of Artificial Intelligence (AI) is witnessing a surge of advancements that are poised to reshape industries, enhance lives, and pave the way for a sustainable future. From open-source AI models to quantum machine learning, the possibilities are endless. Let's dive into the most significant AI breakthroughs and explore their potential impacts on various aspects of our lives.\n",
            "\n",
            "**Open Source AI Models: A Catalyst for Growth**\n",
            "\n",
            "The accessibility of open-source pretrained AI models developed by tech giants like IBM and NASA is revolutionizing the way businesses leverage AI. These models serve as a foundation for businesses to build upon, allowing them to accelerate growth by combining them with private or real-time data. This synergy enhances productivity, cost-efficiency, and innovation, fostering a thriving business landscape.\n",
            "\n",
            "**Generative AI: Unleashing Creativity and Innovation**\n",
            "\n",
            "Generative AI, with its ability to generate new data and content from existing sources, is becoming more accessible to non-tech users. This democratization of AI empowers individuals to experiment with AI models, leading to a surge in innovative applications and novel solutions. From stunning artwork to personalized content, generative AI is unlocking a new era of creativity and innovation.\n",
            "\n",
            "**AI-Powered Automation: Beyond Repetitive Tasks**\n",
            "\n",
            "AI-powered automation is expanding its reach beyond repetitive tasks, venturing into complex processes that require decision-making and problem-solving. This evolution enhances efficiency and productivity across industries, from manufacturing to healthcare, driving economic growth and improving operational outcomes.\n",
            "\n",
            "**AI in Healthcare: Revolutionizing Patient Care**\n",
            "\n",
            "AI is playing an increasingly pivotal role in healthcare, aiding in disease diagnosis, drug discovery, and the development of personalized treatment plans. These advancements lead to improved patient outcomes, reduced healthcare costs, and a more proactive approach to healthcare management.\n",
            "\n",
            "**AI in Finance: Enhancing Security and Efficiency**\n",
            "\n",
            "The financial sector is witnessing a surge in the adoption of AI for fraud detection, risk assessment, and investment management. AI-powered systems provide real-time analysis of financial data, enabling institutions to make informed decisions, mitigate risks, and streamline operations, resulting in increased security and efficiency in financial transactions.\n",
            "\n",
            "**Breakthrough Technologies: Pushing the Boundaries of AI**\n",
            "\n",
            "The year 2024 marks the emergence of breakthrough technologies that are propelling AI to new heights. Quantum machine learning algorithms are enabling faster and more accurate training of AI models, leading to breakthroughs in drug discovery, materials science, and other complex domains.\n",
            "\n",
            "Edge AI devices, with their ability to process data locally, are becoming more powerful and affordable. This decentralized approach enables real-time decision-making, enhances privacy, and expands the applications of AI beyond cloud-based systems.\n",
            "\n",
            "AI-powered cybersecurity systems are evolving to combat sophisticated cyber threats in real-time. These systems leverage AI to detect anomalies, identify vulnerabilities, and respond to attacks swiftly, safeguarding businesses and individuals from cyber threats.\n",
            "\n",
            "AI is also playing a crucial role in climate change mitigation. AI-powered solutions optimize energy usage, predict extreme weather events, and develop innovative approaches to reduce greenhouse gas emissions. These advancements pave the way for a more sustainable and resilient future.\n",
            "\n",
            "**Potential Industry Impacts: A Transformative Force**\n",
            "\n",
            "The advancements in AI have the potential to transform industries and improve lives in numerous ways. Increased productivity and efficiency, driven by AI-powered automation and improved decision-making, will lead to cost savings and improved profitability across various sectors.\n",
            "\n",
            "Generative AI and other advanced AI technologies will enable the development of new products and services, opening up new markets and opportunities for businesses. AI-powered customer service chatbots and personalized recommendations will enhance customer experience, resulting in increased satisfaction and loyalty.\n",
            "\n",
            "AI's impact on healthcare and financial services will be profound. AI will improve the accuracy and efficiency of healthcare diagnosis and treatment, leading to better patient outcomes. In the financial sector, AI will enhance the security and efficiency of financial transactions, reducing fraud and risk.\n",
            "\n",
            "Furthermore, AI-powered solutions for climate change mitigation and cybersecurity will lead to more sustainable and resilient societies. These advancements will reduce greenhouse gas emissions, improve protection against cyberattacks, and enhance the quality of life for citizens.\n",
            "\n",
            "**Conclusion: A Future Powered by AI**\n",
            "\n",
            "The year 2024 marks a pivotal moment in the evolution of AI. With open-source AI models, generative AI, and breakthrough technologies like quantum machine learning and edge AI, we are witnessing a surge of advancements that have the potential to transform industries, improve lives, and create a more sustainable and prosperous future. As AI continues to evolve, we can expect even more remarkable breakthroughs that will shape the world in ways we can only imagine.\n",
            "\n",
            "\n"
          ]
        }
      ]
    },
    {
      "cell_type": "code",
      "source": [
        "print(result)"
      ],
      "metadata": {
        "colab": {
          "base_uri": "https://localhost:8080/"
        },
        "id": "HB91fa7BXULb",
        "outputId": "482b8f94-b92a-496a-9a6d-b09a4c28ae9d"
      },
      "execution_count": null,
      "outputs": [
        {
          "output_type": "stream",
          "name": "stdout",
          "text": [
            "# **AI Advancements in 2024: Unleashing a World of Possibilities**\n",
            "\n",
            "In 2024, the world of Artificial Intelligence (AI) is witnessing a surge of advancements that are poised to reshape industries, enhance lives, and pave the way for a sustainable future. From open-source AI models to quantum machine learning, the possibilities are endless. Let's dive into the most significant AI breakthroughs and explore their potential impacts on various aspects of our lives.\n",
            "\n",
            "**Open Source AI Models: A Catalyst for Growth**\n",
            "\n",
            "The accessibility of open-source pretrained AI models developed by tech giants like IBM and NASA is revolutionizing the way businesses leverage AI. These models serve as a foundation for businesses to build upon, allowing them to accelerate growth by combining them with private or real-time data. This synergy enhances productivity, cost-efficiency, and innovation, fostering a thriving business landscape.\n",
            "\n",
            "**Generative AI: Unleashing Creativity and Innovation**\n",
            "\n",
            "Generative AI, with its ability to generate new data and content from existing sources, is becoming more accessible to non-tech users. This democratization of AI empowers individuals to experiment with AI models, leading to a surge in innovative applications and novel solutions. From stunning artwork to personalized content, generative AI is unlocking a new era of creativity and innovation.\n",
            "\n",
            "**AI-Powered Automation: Beyond Repetitive Tasks**\n",
            "\n",
            "AI-powered automation is expanding its reach beyond repetitive tasks, venturing into complex processes that require decision-making and problem-solving. This evolution enhances efficiency and productivity across industries, from manufacturing to healthcare, driving economic growth and improving operational outcomes.\n",
            "\n",
            "**AI in Healthcare: Revolutionizing Patient Care**\n",
            "\n",
            "AI is playing an increasingly pivotal role in healthcare, aiding in disease diagnosis, drug discovery, and the development of personalized treatment plans. These advancements lead to improved patient outcomes, reduced healthcare costs, and a more proactive approach to healthcare management.\n",
            "\n",
            "**AI in Finance: Enhancing Security and Efficiency**\n",
            "\n",
            "The financial sector is witnessing a surge in the adoption of AI for fraud detection, risk assessment, and investment management. AI-powered systems provide real-time analysis of financial data, enabling institutions to make informed decisions, mitigate risks, and streamline operations, resulting in increased security and efficiency in financial transactions.\n",
            "\n",
            "**Breakthrough Technologies: Pushing the Boundaries of AI**\n",
            "\n",
            "The year 2024 marks the emergence of breakthrough technologies that are propelling AI to new heights. Quantum machine learning algorithms are enabling faster and more accurate training of AI models, leading to breakthroughs in drug discovery, materials science, and other complex domains.\n",
            "\n",
            "Edge AI devices, with their ability to process data locally, are becoming more powerful and affordable. This decentralized approach enables real-time decision-making, enhances privacy, and expands the applications of AI beyond cloud-based systems.\n",
            "\n",
            "AI-powered cybersecurity systems are evolving to combat sophisticated cyber threats in real-time. These systems leverage AI to detect anomalies, identify vulnerabilities, and respond to attacks swiftly, safeguarding businesses and individuals from cyber threats.\n",
            "\n",
            "AI is also playing a crucial role in climate change mitigation. AI-powered solutions optimize energy usage, predict extreme weather events, and develop innovative approaches to reduce greenhouse gas emissions. These advancements pave the way for a more sustainable and resilient future.\n",
            "\n",
            "**Potential Industry Impacts: A Transformative Force**\n",
            "\n",
            "The advancements in AI have the potential to transform industries and improve lives in numerous ways. Increased productivity and efficiency, driven by AI-powered automation and improved decision-making, will lead to cost savings and improved profitability across various sectors.\n",
            "\n",
            "Generative AI and other advanced AI technologies will enable the development of new products and services, opening up new markets and opportunities for businesses. AI-powered customer service chatbots and personalized recommendations will enhance customer experience, resulting in increased satisfaction and loyalty.\n",
            "\n",
            "AI's impact on healthcare and financial services will be profound. AI will improve the accuracy and efficiency of healthcare diagnosis and treatment, leading to better patient outcomes. In the financial sector, AI will enhance the security and efficiency of financial transactions, reducing fraud and risk.\n",
            "\n",
            "Furthermore, AI-powered solutions for climate change mitigation and cybersecurity will lead to more sustainable and resilient societies. These advancements will reduce greenhouse gas emissions, improve protection against cyberattacks, and enhance the quality of life for citizens.\n",
            "\n",
            "**Conclusion: A Future Powered by AI**\n",
            "\n",
            "The year 2024 marks a pivotal moment in the evolution of AI. With open-source AI models, generative AI, and breakthrough technologies like quantum machine learning and edge AI, we are witnessing a surge of advancements that have the potential to transform industries, improve lives, and create a more sustainable and prosperous future. As AI continues to evolve, we can expect even more remarkable breakthroughs that will shape the world in ways we can only imagine.\n"
          ]
        }
      ]
    },
    {
      "cell_type": "code",
      "source": [],
      "metadata": {
        "id": "4v_zrFftXqdk"
      },
      "execution_count": null,
      "outputs": []
    }
  ]
}